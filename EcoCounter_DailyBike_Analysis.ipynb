{
  "nbformat": 4,
  "nbformat_minor": 0,
  "metadata": {
    "colab": {
      "provenance": [],
      "gpuType": "V28",
      "authorship_tag": "ABX9TyMZk7FYJW9oCxM4eVfkxkQ0",
      "include_colab_link": true
    },
    "kernelspec": {
      "name": "ir",
      "display_name": "R"
    },
    "language_info": {
      "name": "R"
    },
    "accelerator": "TPU"
  },
  "cells": [
    {
      "cell_type": "markdown",
      "metadata": {
        "id": "view-in-github",
        "colab_type": "text"
      },
      "source": [
        "<a href=\"https://colab.research.google.com/github/yadavrishikesh/st.using.BKTR/blob/main/EcoCounter_DailyBike_Analysis.ipynb\" target=\"_parent\"><img src=\"https://colab.research.google.com/assets/colab-badge.svg\" alt=\"Open In Colab\"/></a>"
      ]
    },
    {
      "cell_type": "code",
      "source": [
        "install.packages(\"BKTR\")"
      ],
      "metadata": {
        "colab": {
          "base_uri": "https://localhost:8080/"
        },
        "id": "IOb8N1mfGxfE",
        "outputId": "627d7200-090f-4f15-fb20-901a99252cdf"
      },
      "execution_count": null,
      "outputs": [
        {
          "output_type": "stream",
          "name": "stderr",
          "text": [
            "Installing package into ‘/usr/local/lib/R/site-library’\n",
            "(as ‘lib’ is unspecified)\n",
            "\n",
            "also installing the dependencies ‘coro’, ‘safetensors’, ‘collections’, ‘png’, ‘plyr’, ‘jpeg’, ‘bitops’, ‘torch’, ‘R6P’, ‘ggmap’\n",
            "\n",
            "\n"
          ]
        }
      ]
    },
    {
      "cell_type": "code",
      "source": [
        "data(\"EcoCounter_bike_data\")\n",
        "\n",
        "## spatial info\n",
        "spatial_positions_df<- data.table(location = 1:dim(daily_bike_data$loc)[1],\n",
        "                                  latitude = daily_bike_data$loc[,\"lat\"],\n",
        "                                  longitude = daily_bike_data$loc[,\"long\"]\n",
        "                                  )\n",
        "spatial_positions_df<- setkey(spatial_positions_df, location)\n",
        "ns<- nrow(spatial_positions_df)\n",
        "\n",
        "## temporal info\n",
        "temporal_positions_df<- data.table(time = c(seq(from = as.Date(\"2021-04-15\"), to = as.Date(\"2021-11-15\"), by = \"day\"),\n",
        "                                            seq(from = as.Date(\"2022-04-15\"), to = as.Date(\"2022-11-15\"), by = \"day\")),\n",
        "                                   time_index  = 0: (nrow(daily_bike_data$bikecounts)-1)\n",
        "                                   )\n",
        "temporal_positions_df<- setkey(temporal_positions_df, time)\n",
        "nt<- nrow(temporal_positions_df)\n",
        "\n",
        "\n",
        "#### data\n",
        "Y.all<- daily_bike_data$bikecounts\n",
        "miss.artfical.na<-  list(site1 = 1:20, site15 = 200:230,\n",
        "                         site25 = 350:400, site40 = 100:150)\n",
        "#### artificially creating some NAs to asses the missing value imputations performances\n",
        "Y<- Y.all\n",
        "Y[miss.artfical.na$site1, 1]<- NA\n",
        "Y[miss.artfical.na$site15, 15]<- NA\n",
        "Y[miss.artfical.na$site25, 25]<- NA\n",
        "Y[miss.artfical.na$site40, 40]<- NA\n",
        "\n",
        "## whole datasets\n",
        "normalize <- function(x) {\n",
        "  return ((x - min(x)) / (max(x) - min(x)))\n",
        "}\n",
        "data_df<- data.table(location  = rep(spatial_positions_df$location, each=nt),\n",
        "                     time  = rep(temporal_positions_df$time, ns),\n",
        "                     log.counts = c(log(1+Y)),\n",
        "                     temp = rep(normalize(daily_bike_data$purely_temp_cov$temp), ns),\n",
        "                     visb = rep(normalize(daily_bike_data$purely_temp_cov$visbl), ns),\n",
        "                     wspd = rep(normalize(daily_bike_data$purely_temp_cov$wsp), ns),\n",
        "                     precp.dummy = rep(normalize(daily_bike_data$purely_temp_cov$precp.dummy), ns),\n",
        "                     year.dummy = rep(normalize(daily_bike_data$purely_temp_cov$year.dummy), ns),\n",
        "                     sin7 =  sin((2*pi*(1:nt))/7),\n",
        "                     cos7 =  cos((2*pi*(1:nt))/7),\n",
        "                     elevation = rep(normalize(daily_bike_data$purely_spatial_cov$elev), each = nt),\n",
        "                     walkscore = rep(normalize(daily_bike_data$purely_spatial_cov$walkscore), each = nt),\n",
        "                     num_pop = rep(normalize(daily_bike_data$purely_spatial_cov$num_ppo), each = nt)\n",
        ")\n",
        "data_df<- setkey(data_df, location, time)\n",
        "dim(data_df)\n",
        "ns * nt\n"
      ],
      "metadata": {
        "id": "OwJ7gQw5KQCq"
      },
      "execution_count": null,
      "outputs": []
    },
    {
      "cell_type": "code",
      "source": [
        "############## predictions (spatial interpolation) at new sites #########################\n",
        "spatInt.ind = c(11, 34, 41, 44)\n",
        "new_s<- spatial_positions_df$location[spatInt.ind]  ###c(100003032, 100041101, 300020679)\n",
        "forcast.ind<- 1:7\n",
        "new_t<- temporal_positions_df$time[-(1:(nt-length(forcast.ind)))]\n",
        "new_t <- as.IDate(new_t) ##Cast to IDate to match implicit cast of data.table\n",
        "obs_s <- setdiff(unlist(spatial_positions_df$location), new_s)\n",
        "obs_t <- as.IDate(setdiff(unlist(temporal_positions_df$time), new_t))\n",
        "\n",
        "\n",
        "### obs_data_df$log.counts<- c(data_mat) ## in case of imputations\n",
        "obs_data_df <- data_df[data_df[, .I[location %in% obs_s & time %in% obs_t]], ] ### in case of no\n",
        "obs_spa_df <- spatial_positions_df[spatial_positions_df[, .I[location %in% obs_s]], ]\n",
        "obs_tem_df <- temporal_positions_df[temporal_positions_df[,.I[time %in% obs_t]], ]"
      ],
      "metadata": {
        "id": "60XTqi8QKZ_H"
      },
      "execution_count": null,
      "outputs": []
    },
    {
      "cell_type": "code",
      "source": [
        "# Train and predict\n",
        "TSR$set_params(seed = 1) # Set the seed\n",
        "k_local_periodic <- KernelSE$new() *\n",
        "  KernelPeriodic$new(period_length = KernelParameter$new(value = 7, is_fixed = TRUE))\n",
        "#formula.bktr<- log.counts ~ 1 + temp + visb + wspd + prep + elevation + walkscore  + num_pop + sin7 + cos7\n",
        "formula.bktr<- log.counts ~ 1 + temp + visb  + wspd + precp.dummy + year.dummy + sin7 + cos7  +  elevation + walkscore + num_pop\n",
        "\n",
        "BKTR::TSR$set_params(fp_type = 'float64')\n",
        "bktr_regressor <- BKTRRegressor$new(\n",
        "  formula = formula.bktr ,\n",
        "  data_df=obs_data_df,\n",
        "  spatial_positions_df=obs_spa_df,\n",
        "  temporal_positions_df=obs_tem_df,\n",
        "  burn_in_iter=50, ### by default choice is 1000\n",
        "  sampling_iter = 50, ## by default choice is 500\n",
        "  rank = 10, ## by default choice is 10\n",
        "  spatial_kernel = KernelMatern$new(smoothness_factor = 1), # default spatial kernel is Matern 5/2, i.e., with nu=5\n",
        "  temporal_kernel = k_local_periodic # default temporal kernel is squired exponential\n",
        ")\n",
        "bktr_regressor$mcmc_sampling()\n",
        "summary(bktr_regressor)"
      ],
      "metadata": {
        "id": "ULBJvGjnKyjU"
      },
      "execution_count": null,
      "outputs": []
    },
    {
      "cell_type": "code",
      "source": [
        "plot_y_estimates(bktr_regressor)"
      ],
      "metadata": {
        "id": "lGiKsgi3K35M"
      },
      "execution_count": null,
      "outputs": []
    },
    {
      "cell_type": "code",
      "source": [
        "### predictions\n",
        "new_data_df<- data_df[data_df[, .I[location %in% new_s | time %in% new_t]], ]\n",
        "new_spa_df <- spatial_positions_df[spatial_positions_df[, .I[location %in% new_s]], ]\n",
        "new_tem_df <- temporal_positions_df[temporal_positions_df[, .I[time %in% new_t]], ]\n",
        "preds <- bktr_regressor$predict(new_data_df, new_spa_df, new_tem_df)\n"
      ],
      "metadata": {
        "id": "6YELGS9sK8AE"
      },
      "execution_count": null,
      "outputs": []
    },
    {
      "cell_type": "code",
      "source": [
        "\n",
        "## overall- predictions\n",
        "par(mfrow=c(1,1))\n",
        "plot(preds$new_y_df$y_est, new_data_df$log.counts)\n"
      ],
      "metadata": {
        "id": "AdCBOSwwK8A2"
      },
      "execution_count": null,
      "outputs": []
    },
    {
      "cell_type": "code",
      "source": [
        "############## predictions (spatial interpolation) at new sites #########################\n",
        "#new_data_df <- data_df[data_df[, .I[location %in% new_s | time %in% new_t]], c('location', 'time', 'log.counts')]\n",
        "pred_y_df <- preds$new_y_df\n",
        "setkey(new_data_df, location, time)\n",
        "setkey(pred_y_df, location, time)\n",
        "non_na_indices <- which(!is.na(new_data_df$log.counts))"
      ],
      "metadata": {
        "id": "XGLvzYEELCDS"
      },
      "execution_count": null,
      "outputs": []
    },
    {
      "cell_type": "code",
      "source": [
        "\n",
        "### reporting the estimated values\n",
        "spatInt.ind.sorted <- sort(spatInt.ind)\n",
        "n_sites <- length(spatInt.ind.sorted)\n",
        "n_t <- length(new_t)\n",
        "true.forecast.counts <- list()\n",
        "true.spatial.intpl.counts <- list()\n",
        "true.st.pred.counts <- list()\n",
        "est.forecast.counts <- list()\n",
        "est.spatial.intpl.counts <- list()\n",
        "est.st.pred.counts <- list()\n",
        "start_idx <- 1\n",
        "\n",
        "for (i in 1:n_sites) {\n",
        "  if (i == 1) {\n",
        "    shift <- spatInt.ind.sorted[i] - 1\n",
        "    if (spatInt.ind.sorted[i] == 1) shift <- 1\n",
        "  } else {\n",
        "    shift <- spatInt.ind.sorted[i] - spatInt.ind.sorted[i-1] - 1\n",
        "    if (spatInt.ind.sorted[i] - spatInt.ind.sorted[i-1] == 1) shift <- 1\n",
        "  }\n",
        "\n",
        "  if (shift < 1) next\n",
        "  true.forecast.counts[[i]] <- matrix(new_data_df$log.counts[start_idx : (start_idx + n_t * shift - 1)], nrow = n_t, ncol = shift)\n",
        "  true.spatial.intpl.counts[[i]] <- new_data_df$log.counts[(start_idx + n_t * shift) : (start_idx + n_t * shift + (nt-n_t)-1)]\n",
        "  true.st.pred.counts[[i]] <- new_data_df$log.counts[(start_idx + n_t * shift + (nt-n_t)) : (start_idx + n_t * shift + nt-1)]\n",
        "\n",
        "  est.forecast.counts[[i]] <- matrix(pred_y_df$y_est[start_idx : (start_idx + n_t * shift - 1)], nrow = n_t, ncol = shift)\n",
        "  est.spatial.intpl.counts[[i]] <- pred_y_df$y_est[(start_idx + n_t * shift) : (start_idx + n_t * shift + (nt-n_t) -1)]\n",
        "  est.st.pred.counts[[i]] <- pred_y_df$y_est[(start_idx + n_t * shift + (nt-n_t)) : (start_idx + n_t * shift + nt - 1)]\n",
        "\n",
        "  start_idx <- start_idx + n_t * shift + nt\n",
        "}\n",
        "\n",
        "forecast <- list(true = exp(do.call(cbind, true.forecast.counts)), est.mean = exp(do.call(cbind, est.forecast.counts)))\n",
        "spat_time_pred <- list(true = exp(do.call(cbind, true.st.pred.counts)), est.mean = exp(do.call(cbind, est.st.pred.counts)))\n",
        "spat.interpol <- list(true = exp(do.call(cbind, true.spatial.intpl.counts)), est.mean = exp(do.call(cbind, est.spatial.intpl.counts)))\n",
        "outputs.CVs<- list(\"spat.interpol.\" = spat.interpol, \"forecast\" = forecast, \"space.time.pred\" =  spat_time_pred)\n"
      ],
      "metadata": {
        "id": "02vUo1FCLCEM"
      },
      "execution_count": null,
      "outputs": []
    },
    {
      "cell_type": "code",
      "source": [
        "par(mfrow=c(3,1))\n",
        "plot(c(outputs.CVs$spat.interpol.$true), c(outputs.CVs$spat.interpol.$est.mean),\n",
        "     xlab=\"true\", ylab = \"est\")\n",
        "plot(c(outputs.CVs$forecast$true), c(outputs.CVs$forecast$est.mean),\n",
        "    xlab=\"true\", ylab = \"est\")\n",
        "plot(c(outputs.CVs$space.time.pred$true), c(outputs.CVs$space.time.pred$est.mean),\n",
        "    xlab=\"true\", ylab = \"est\")"
      ],
      "metadata": {
        "id": "6XEiHTN5LQYf"
      },
      "execution_count": null,
      "outputs": []
    }
  ]
}