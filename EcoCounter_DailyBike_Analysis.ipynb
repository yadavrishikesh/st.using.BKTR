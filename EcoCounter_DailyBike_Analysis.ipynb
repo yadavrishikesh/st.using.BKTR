{
  "nbformat": 4,
  "nbformat_minor": 0,
  "metadata": {
    "colab": {
      "provenance": [],
      "gpuType": "T4",
      "authorship_tag": "ABX9TyO4rEJUH40BdiJ1TCXvtkmK",
      "include_colab_link": true
    },
    "kernelspec": {
      "name": "ir",
      "display_name": "R"
    },
    "language_info": {
      "name": "R"
    },
    "accelerator": "GPU"
  },
  "cells": [
    {
      "cell_type": "markdown",
      "metadata": {
        "id": "view-in-github",
        "colab_type": "text"
      },
      "source": [
        "<a href=\"https://colab.research.google.com/github/yadavrishikesh/st.using.BKTR/blob/main/EcoCounter_DailyBike_Analysis.ipynb\" target=\"_parent\"><img src=\"https://colab.research.google.com/assets/colab-badge.svg\" alt=\"Open In Colab\"/></a>"
      ]
    },
    {
      "cell_type": "code",
      "source": [
        "install.packages(\"BKTR\")"
      ],
      "metadata": {
        "colab": {
          "base_uri": "https://localhost:8080/"
        },
        "id": "IOb8N1mfGxfE",
        "outputId": "9539d38f-d8c6-40db-8983-d28828b13460"
      },
      "execution_count": null,
      "outputs": [
        {
          "output_type": "stream",
          "name": "stderr",
          "text": [
            "Installing package into ‘/usr/local/lib/R/site-library’\n",
            "(as ‘lib’ is unspecified)\n",
            "\n",
            "also installing the dependencies ‘coro’, ‘safetensors’, ‘collections’, ‘png’, ‘plyr’, ‘jpeg’, ‘bitops’, ‘torch’, ‘R6P’, ‘ggmap’\n",
            "\n",
            "\n"
          ]
        }
      ]
    }
  ]
}